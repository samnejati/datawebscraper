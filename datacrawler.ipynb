{
 "cells": [
  {
   "cell_type": "code",
   "execution_count": 1,
   "id": "ede0eedd-c8f9-4cf7-9a91-ecffa7cf607f",
   "metadata": {},
   "outputs": [
    {
     "name": "stdout",
     "output_type": "stream",
     "text": [
      "Requirement already satisfied: beautifulsoup4 in /home/lg/anaconda3/envs/datacrawler/lib/python3.9/site-packages (4.11.1)\n",
      "Requirement already satisfied: soupsieve>1.2 in /home/lg/anaconda3/envs/datacrawler/lib/python3.9/site-packages (from beautifulsoup4) (2.3.1)\n"
     ]
    }
   ],
   "source": [
    "! pip install beautifulsoup4 \n"
   ]
  },
  {
   "cell_type": "code",
   "execution_count": 2,
   "id": "236d4dba-dc3a-4c70-a394-42a1cae4c71d",
   "metadata": {},
   "outputs": [
    {
     "name": "stdout",
     "output_type": "stream",
     "text": [
      "Requirement already satisfied: lxml in /home/lg/anaconda3/envs/datacrawler/lib/python3.9/site-packages (4.9.1)\n"
     ]
    }
   ],
   "source": [
    "!pip install lxml"
   ]
  },
  {
   "cell_type": "code",
   "execution_count": 3,
   "id": "380f6f7c-3b1d-41be-95db-63b73a3a2c8f",
   "metadata": {},
   "outputs": [
    {
     "name": "stdout",
     "output_type": "stream",
     "text": [
      "Requirement already satisfied: pandas in /home/lg/anaconda3/envs/datacrawler/lib/python3.9/site-packages (1.4.4)\n",
      "Requirement already satisfied: numpy>=1.18.5 in /home/lg/anaconda3/envs/datacrawler/lib/python3.9/site-packages (from pandas) (1.23.3)\n",
      "Requirement already satisfied: python-dateutil>=2.8.1 in /home/lg/anaconda3/envs/datacrawler/lib/python3.9/site-packages (from pandas) (2.8.2)\n",
      "Requirement already satisfied: pytz>=2020.1 in /home/lg/anaconda3/envs/datacrawler/lib/python3.9/site-packages (from pandas) (2022.1)\n",
      "Requirement already satisfied: six>=1.5 in /home/lg/anaconda3/envs/datacrawler/lib/python3.9/site-packages (from python-dateutil>=2.8.1->pandas) (1.16.0)\n"
     ]
    }
   ],
   "source": [
    "! pip install pandas\n"
   ]
  },
  {
   "cell_type": "markdown",
   "id": "b59a9bc3-e9ef-4af7-8f82-21e0d5bb212a",
   "metadata": {},
   "source": [
    "Requests, Pandas, BeautifulSoup."
   ]
  },
  {
   "cell_type": "code",
   "execution_count": 4,
   "id": "b00cee85-0bec-42e5-be00-7f14b6677a6c",
   "metadata": {},
   "outputs": [],
   "source": [
    "import requests \n",
    "import pandas as pd\n",
    "from bs4 import BeautifulSoup # library to parse HTML documents\n"
   ]
  },
  {
   "cell_type": "code",
   "execution_count": 5,
   "id": "b2896db7-e8f1-4392-a423-e9f3d6fb6627",
   "metadata": {},
   "outputs": [
    {
     "name": "stdout",
     "output_type": "stream",
     "text": [
      "200\n"
     ]
    }
   ],
   "source": [
    "# get the response in the form of html\n",
    "wikiurl=\"https://en.wikipedia.org/wiki/List_of_asset_management_firms\"\n",
    "table_class=\"sortable wikitable jquery-tablesorter\"\n",
    "response=requests.get(wikiurl)\n",
    "print(response.status_code)"
   ]
  },
  {
   "cell_type": "code",
   "execution_count": 6,
   "id": "419ffa15-7d83-4727-8810-b9c5c57b7c1d",
   "metadata": {},
   "outputs": [
    {
     "data": {
      "text/plain": [
       "<Response [200]>"
      ]
     },
     "execution_count": 6,
     "metadata": {},
     "output_type": "execute_result"
    }
   ],
   "source": [
    "response"
   ]
  },
  {
   "cell_type": "code",
   "execution_count": 7,
   "id": "73804b82-bfa0-4054-9c8a-ad2a9bbc1005",
   "metadata": {},
   "outputs": [],
   "source": [
    "#response.text # The whole html source code from the url"
   ]
  },
  {
   "cell_type": "code",
   "execution_count": 8,
   "id": "024fe7d0-dbbf-40d7-aecb-6cc6a764cd2b",
   "metadata": {},
   "outputs": [
    {
     "data": {
      "text/plain": [
       "str"
      ]
     },
     "execution_count": 8,
     "metadata": {},
     "output_type": "execute_result"
    }
   ],
   "source": [
    "type(response.text)"
   ]
  },
  {
   "cell_type": "code",
   "execution_count": 9,
   "id": "8fb2db0d-9dfb-4d65-90f2-c41ee05e51f8",
   "metadata": {},
   "outputs": [],
   "source": [
    "# parse data from the html into a beautifulsoup object\n",
    "soup = BeautifulSoup(response.text, 'html.parser')\n",
    "largest_company_table = soup.find('table',{'class':\"wikitable\"}) \n",
    "#table ==> tag html ==> we have it in the html source code\n",
    "#{'class':\"wikitable\"} ==> This is a dictionary, class name "
   ]
  },
  {
   "cell_type": "code",
   "execution_count": 10,
   "id": "1f09e0a5-aee4-401e-b29f-25724282e6b9",
   "metadata": {},
   "outputs": [
    {
     "data": {
      "text/plain": [
       "bs4.BeautifulSoup"
      ]
     },
     "execution_count": 10,
     "metadata": {},
     "output_type": "execute_result"
    }
   ],
   "source": [
    "type(soup)"
   ]
  },
  {
   "cell_type": "code",
   "execution_count": 11,
   "id": "173c96fc-422b-4265-b65c-cc28437eff45",
   "metadata": {},
   "outputs": [],
   "source": [
    "#soup"
   ]
  },
  {
   "cell_type": "code",
   "execution_count": 15,
   "id": "e7cad15f-8860-4f78-a5c2-cafa4d442d10",
   "metadata": {},
   "outputs": [],
   "source": [
    "df=pd.read_html(str(largest_company_table))\n"
   ]
  },
  {
   "cell_type": "code",
   "execution_count": 16,
   "id": "c88b85d5-45d7-4934-b10d-a366e97fb52c",
   "metadata": {},
   "outputs": [
    {
     "data": {
      "text/plain": [
       "[    Rank                  Firm/company         Country  AUM (billion USD)\n",
       " 0      1                     BlackRock   United States              10010\n",
       " 1      2                Charles Schwab   United States               8140\n",
       " 2      3                Vanguard Group   United States               8100\n",
       " 3      4                           UBS     Switzerland               4380\n",
       " 4      5          Fidelity Investments   United States               4283\n",
       " 5      6  State Street Global Advisors   United States               4020\n",
       " 6      7                Morgan Stanley   United States               3230\n",
       " 7      8                JPMorgan Chase   United States               2960\n",
       " 8      9                       Allianz         Germany               2760\n",
       " 9     10                 Capital Group   United States               2700\n",
       " 10    11                 Goldman Sachs   United States               2394\n",
       " 11    12                    BNY Mellon   United States               2266\n",
       " 12    13                        Amundi          France               2251\n",
       " 13    14                         PIMCO   United States               2000\n",
       " 14    15               Legal & General  United Kingdom               1866\n",
       " 15    16          Prudential Financial   United States               1620\n",
       " 16    17                 Deutsche Bank         Germany               1615\n",
       " 17    18               Bank of America   United States               1571\n",
       " 18    19                       Invesco   United States               1556\n",
       " 19    20                 T. Rowe Price   United States               1552]"
      ]
     },
     "execution_count": 16,
     "metadata": {},
     "output_type": "execute_result"
    }
   ],
   "source": [
    "df"
   ]
  },
  {
   "cell_type": "code",
   "execution_count": 17,
   "id": "9fd08218-02e0-4bc6-9013-643a4921e3b3",
   "metadata": {},
   "outputs": [
    {
     "data": {
      "text/plain": [
       "1"
      ]
     },
     "execution_count": 17,
     "metadata": {},
     "output_type": "execute_result"
    }
   ],
   "source": [
    "len(df)"
   ]
  },
  {
   "cell_type": "code",
   "execution_count": 18,
   "id": "6c15d4ce-a282-4b15-b80f-ea518f14f757",
   "metadata": {},
   "outputs": [
    {
     "name": "stdout",
     "output_type": "stream",
     "text": [
      "   Rank          Firm/company        Country  AUM (billion USD)\n",
      "0     1             BlackRock  United States              10010\n",
      "1     2        Charles Schwab  United States               8140\n",
      "2     3        Vanguard Group  United States               8100\n",
      "3     4                   UBS    Switzerland               4380\n",
      "4     5  Fidelity Investments  United States               4283\n"
     ]
    }
   ],
   "source": [
    "# convert list to dataframe\n",
    "df=pd.DataFrame(df[0])\n",
    "print(df.head())"
   ]
  },
  {
   "cell_type": "code",
   "execution_count": 19,
   "id": "0400c15d-5fa5-4deb-9a0d-cf144648e420",
   "metadata": {},
   "outputs": [
    {
     "data": {
      "text/html": [
       "<div>\n",
       "<style scoped>\n",
       "    .dataframe tbody tr th:only-of-type {\n",
       "        vertical-align: middle;\n",
       "    }\n",
       "\n",
       "    .dataframe tbody tr th {\n",
       "        vertical-align: top;\n",
       "    }\n",
       "\n",
       "    .dataframe thead th {\n",
       "        text-align: right;\n",
       "    }\n",
       "</style>\n",
       "<table border=\"1\" class=\"dataframe\">\n",
       "  <thead>\n",
       "    <tr style=\"text-align: right;\">\n",
       "      <th></th>\n",
       "      <th>Rank</th>\n",
       "      <th>Firm/company</th>\n",
       "      <th>Country</th>\n",
       "      <th>AUM (billion USD)</th>\n",
       "    </tr>\n",
       "  </thead>\n",
       "  <tbody>\n",
       "    <tr>\n",
       "      <th>0</th>\n",
       "      <td>1</td>\n",
       "      <td>BlackRock</td>\n",
       "      <td>United States</td>\n",
       "      <td>10010</td>\n",
       "    </tr>\n",
       "    <tr>\n",
       "      <th>1</th>\n",
       "      <td>2</td>\n",
       "      <td>Charles Schwab</td>\n",
       "      <td>United States</td>\n",
       "      <td>8140</td>\n",
       "    </tr>\n",
       "    <tr>\n",
       "      <th>2</th>\n",
       "      <td>3</td>\n",
       "      <td>Vanguard Group</td>\n",
       "      <td>United States</td>\n",
       "      <td>8100</td>\n",
       "    </tr>\n",
       "    <tr>\n",
       "      <th>3</th>\n",
       "      <td>4</td>\n",
       "      <td>UBS</td>\n",
       "      <td>Switzerland</td>\n",
       "      <td>4380</td>\n",
       "    </tr>\n",
       "    <tr>\n",
       "      <th>4</th>\n",
       "      <td>5</td>\n",
       "      <td>Fidelity Investments</td>\n",
       "      <td>United States</td>\n",
       "      <td>4283</td>\n",
       "    </tr>\n",
       "    <tr>\n",
       "      <th>5</th>\n",
       "      <td>6</td>\n",
       "      <td>State Street Global Advisors</td>\n",
       "      <td>United States</td>\n",
       "      <td>4020</td>\n",
       "    </tr>\n",
       "    <tr>\n",
       "      <th>6</th>\n",
       "      <td>7</td>\n",
       "      <td>Morgan Stanley</td>\n",
       "      <td>United States</td>\n",
       "      <td>3230</td>\n",
       "    </tr>\n",
       "    <tr>\n",
       "      <th>7</th>\n",
       "      <td>8</td>\n",
       "      <td>JPMorgan Chase</td>\n",
       "      <td>United States</td>\n",
       "      <td>2960</td>\n",
       "    </tr>\n",
       "    <tr>\n",
       "      <th>8</th>\n",
       "      <td>9</td>\n",
       "      <td>Allianz</td>\n",
       "      <td>Germany</td>\n",
       "      <td>2760</td>\n",
       "    </tr>\n",
       "    <tr>\n",
       "      <th>9</th>\n",
       "      <td>10</td>\n",
       "      <td>Capital Group</td>\n",
       "      <td>United States</td>\n",
       "      <td>2700</td>\n",
       "    </tr>\n",
       "    <tr>\n",
       "      <th>10</th>\n",
       "      <td>11</td>\n",
       "      <td>Goldman Sachs</td>\n",
       "      <td>United States</td>\n",
       "      <td>2394</td>\n",
       "    </tr>\n",
       "    <tr>\n",
       "      <th>11</th>\n",
       "      <td>12</td>\n",
       "      <td>BNY Mellon</td>\n",
       "      <td>United States</td>\n",
       "      <td>2266</td>\n",
       "    </tr>\n",
       "    <tr>\n",
       "      <th>12</th>\n",
       "      <td>13</td>\n",
       "      <td>Amundi</td>\n",
       "      <td>France</td>\n",
       "      <td>2251</td>\n",
       "    </tr>\n",
       "    <tr>\n",
       "      <th>13</th>\n",
       "      <td>14</td>\n",
       "      <td>PIMCO</td>\n",
       "      <td>United States</td>\n",
       "      <td>2000</td>\n",
       "    </tr>\n",
       "    <tr>\n",
       "      <th>14</th>\n",
       "      <td>15</td>\n",
       "      <td>Legal &amp; General</td>\n",
       "      <td>United Kingdom</td>\n",
       "      <td>1866</td>\n",
       "    </tr>\n",
       "    <tr>\n",
       "      <th>15</th>\n",
       "      <td>16</td>\n",
       "      <td>Prudential Financial</td>\n",
       "      <td>United States</td>\n",
       "      <td>1620</td>\n",
       "    </tr>\n",
       "    <tr>\n",
       "      <th>16</th>\n",
       "      <td>17</td>\n",
       "      <td>Deutsche Bank</td>\n",
       "      <td>Germany</td>\n",
       "      <td>1615</td>\n",
       "    </tr>\n",
       "    <tr>\n",
       "      <th>17</th>\n",
       "      <td>18</td>\n",
       "      <td>Bank of America</td>\n",
       "      <td>United States</td>\n",
       "      <td>1571</td>\n",
       "    </tr>\n",
       "    <tr>\n",
       "      <th>18</th>\n",
       "      <td>19</td>\n",
       "      <td>Invesco</td>\n",
       "      <td>United States</td>\n",
       "      <td>1556</td>\n",
       "    </tr>\n",
       "    <tr>\n",
       "      <th>19</th>\n",
       "      <td>20</td>\n",
       "      <td>T. Rowe Price</td>\n",
       "      <td>United States</td>\n",
       "      <td>1552</td>\n",
       "    </tr>\n",
       "  </tbody>\n",
       "</table>\n",
       "</div>"
      ],
      "text/plain": [
       "    Rank                  Firm/company         Country  AUM (billion USD)\n",
       "0      1                     BlackRock   United States              10010\n",
       "1      2                Charles Schwab   United States               8140\n",
       "2      3                Vanguard Group   United States               8100\n",
       "3      4                           UBS     Switzerland               4380\n",
       "4      5          Fidelity Investments   United States               4283\n",
       "5      6  State Street Global Advisors   United States               4020\n",
       "6      7                Morgan Stanley   United States               3230\n",
       "7      8                JPMorgan Chase   United States               2960\n",
       "8      9                       Allianz         Germany               2760\n",
       "9     10                 Capital Group   United States               2700\n",
       "10    11                 Goldman Sachs   United States               2394\n",
       "11    12                    BNY Mellon   United States               2266\n",
       "12    13                        Amundi          France               2251\n",
       "13    14                         PIMCO   United States               2000\n",
       "14    15               Legal & General  United Kingdom               1866\n",
       "15    16          Prudential Financial   United States               1620\n",
       "16    17                 Deutsche Bank         Germany               1615\n",
       "17    18               Bank of America   United States               1571\n",
       "18    19                       Invesco   United States               1556\n",
       "19    20                 T. Rowe Price   United States               1552"
      ]
     },
     "execution_count": 19,
     "metadata": {},
     "output_type": "execute_result"
    }
   ],
   "source": [
    "df"
   ]
  },
  {
   "cell_type": "code",
   "execution_count": null,
   "id": "15feb7a9-bc10-454c-97f3-d0522a60b4af",
   "metadata": {},
   "outputs": [],
   "source": [
    "# https://en.wikipedia.org/wiki/List_of_Game_of_Thrones_episodes"
   ]
  },
  {
   "cell_type": "code",
   "execution_count": 20,
   "id": "7f63a9b1-637b-483e-a83d-fbf3bc36a2a2",
   "metadata": {},
   "outputs": [],
   "source": [
    "def get_wiki_table(url: str) -> pd.DataFrame:\n",
    "        \n",
    "    \"\"\"\n",
    "    Get the tables from a given url\n",
    "    \"\"\"\n",
    "    try:\n",
    "        response=requests.get(url)\n",
    "\n",
    "        if response.ok:\n",
    "            soup = BeautifulSoup(response.text, 'lxml')\n",
    "            tables = soup.find_all('table',{'class':\"wikitable\"})\n",
    "            df_list = pd.read_html(str(tables))\n",
    "            \n",
    "            return df_list\n",
    "        \n",
    "\n",
    "        else: \n",
    "            print(f\"The status code is {response.status_code}\")\n",
    "            \n",
    "    except Exception as e:\n",
    "        print (e.message, e.arg)"
   ]
  },
  {
   "cell_type": "code",
   "execution_count": 23,
   "id": "6c458c62-9b3b-454b-aa9b-04ab52db4707",
   "metadata": {},
   "outputs": [],
   "source": [
    "list_df= get_wiki_table('https://en.wikipedia.org/wiki/List_of_Game_of_Thrones_episodes')"
   ]
  },
  {
   "cell_type": "code",
   "execution_count": null,
   "id": "7c8f947b-bc4e-4802-a612-083e382c3422",
   "metadata": {},
   "outputs": [],
   "source": []
  },
  {
   "cell_type": "code",
   "execution_count": 26,
   "id": "2f700bc8-73b9-43d2-ad0b-e19ec108ac2d",
   "metadata": {},
   "outputs": [
    {
     "data": {
      "text/plain": [
       "12"
      ]
     },
     "execution_count": 26,
     "metadata": {},
     "output_type": "execute_result"
    }
   ],
   "source": [
    "len(list_df)"
   ]
  },
  {
   "cell_type": "code",
   "execution_count": 32,
   "id": "f9d04faa-f9f8-41ae-97e8-0493882fba82",
   "metadata": {},
   "outputs": [
    {
     "data": {
      "text/plain": [
       "[1, 2, 3, 4, 5, 6, 7, 8, 9, 10, 11]"
      ]
     },
     "execution_count": 32,
     "metadata": {},
     "output_type": "execute_result"
    }
   ],
   "source": [
    "list(range (1,12))"
   ]
  },
  {
   "cell_type": "code",
   "execution_count": 34,
   "id": "9741b058-0673-4c85-828f-eaac2e61c879",
   "metadata": {},
   "outputs": [],
   "source": [
    "newlist = [x for x in range (1, len(list_df)+1)]\n",
    "    "
   ]
  },
  {
   "cell_type": "code",
   "execution_count": 35,
   "id": "a4f9ece3-46e7-4711-a27e-6c0fb87fe932",
   "metadata": {},
   "outputs": [
    {
     "data": {
      "text/plain": [
       "[1, 2, 3, 4, 5, 6, 7, 8, 9, 10, 11, 12]"
      ]
     },
     "execution_count": 35,
     "metadata": {},
     "output_type": "execute_result"
    }
   ],
   "source": [
    "newlist"
   ]
  },
  {
   "cell_type": "code",
   "execution_count": 36,
   "id": "d4dd4e7c-20fd-418e-b867-16152fc0c3bb",
   "metadata": {},
   "outputs": [],
   "source": [
    "index = 1\n",
    "for df in list_df:\n",
    "    df.to_csv(f\"table{index}.csv\")\n",
    "    index += 1\n",
    "    \n",
    "    \n",
    "    "
   ]
  },
  {
   "cell_type": "code",
   "execution_count": 43,
   "id": "00f323a9-1d50-4275-befd-76f4358cbfd5",
   "metadata": {},
   "outputs": [],
   "source": [
    "from typing import List\n",
    "def save_table (list_of_df: List[pd.DataFrame]) -> None:\n",
    "    index = 1\n",
    "    for df in list_of_df:\n",
    "        df.to_csv(f\"table{index}.csv\")\n",
    "        index += 1\n",
    "    return"
   ]
  },
  {
   "cell_type": "code",
   "execution_count": 25,
   "id": "30997f3a-b0dc-48ef-9032-4b6e3903c615",
   "metadata": {},
   "outputs": [
    {
     "name": "stdout",
     "output_type": "stream",
     "text": [
      "  Season Episodes            Originally aired                   \\\n",
      "  Season Episodes Episodes.1      First aired       Last aired   \n",
      "0      1       10         10   April 17, 2011    June 19, 2011   \n",
      "1      2       10         10    April 1, 2012     June 3, 2012   \n",
      "2      3       10         10   March 31, 2013     June 9, 2013   \n",
      "3      4       10         10    April 6, 2014    June 15, 2014   \n",
      "4      5       10         10   April 12, 2015    June 14, 2015   \n",
      "5      6       10         10   April 24, 2016    June 26, 2016   \n",
      "6      7        7          7    July 16, 2017  August 27, 2017   \n",
      "7      8        6          6   April 14, 2019     May 19, 2019   \n",
      "\n",
      "  Avg. U.S. viewers(millions)  \n",
      "  Avg. U.S. viewers(millions)  \n",
      "0                    2.52[13]  \n",
      "1                    3.80[13]  \n",
      "2                    4.97[14]  \n",
      "3                    6.84[15]  \n",
      "4                    6.88[16]  \n",
      "5                    7.69[17]  \n",
      "6                   10.26[18]  \n",
      "7                   11.99[19]  \n",
      "--------------------------------------------------\n",
      "   No.overall  No. inseason                                    Title  \\\n",
      "0           1             1                       \"Winter Is Coming\"   \n",
      "1           2             2                          \"The Kingsroad\"   \n",
      "2           3             3                              \"Lord Snow\"   \n",
      "3           4             4  \"Cripples, Bastards, and Broken Things\"   \n",
      "4           5             5                  \"The Wolf and the Lion\"   \n",
      "5           6             6                         \"A Golden Crown\"   \n",
      "6           7             7                     \"You Win or You Die\"   \n",
      "7           8             8                         \"The Pointy End\"   \n",
      "8           9             9                                 \"Baelor\"   \n",
      "9          10            10                         \"Fire and Blood\"   \n",
      "\n",
      "      Directed by                                         Written by  \\\n",
      "0  Tim Van Patten                        David Benioff & D. B. Weiss   \n",
      "1  Tim Van Patten                        David Benioff & D. B. Weiss   \n",
      "2      Brian Kirk                        David Benioff & D. B. Weiss   \n",
      "3      Brian Kirk                                       Bryan Cogman   \n",
      "4      Brian Kirk                        David Benioff & D. B. Weiss   \n",
      "5  Daniel Minahan  Story by : David Benioff & D. B. WeissTeleplay...   \n",
      "6  Daniel Minahan                        David Benioff & D. B. Weiss   \n",
      "7  Daniel Minahan                                George R. R. Martin   \n",
      "8     Alan Taylor                        David Benioff & D. B. Weiss   \n",
      "9     Alan Taylor                        David Benioff & D. B. Weiss   \n",
      "\n",
      "  Original air date [20] U.S. viewers(millions)  \n",
      "0         April 17, 2011               2.22[21]  \n",
      "1         April 24, 2011               2.20[22]  \n",
      "2            May 1, 2011               2.44[23]  \n",
      "3            May 8, 2011               2.45[24]  \n",
      "4           May 15, 2011               2.58[25]  \n",
      "5           May 22, 2011               2.44[26]  \n",
      "6           May 29, 2011               2.40[27]  \n",
      "7           June 5, 2011               2.72[28]  \n",
      "8          June 12, 2011               2.66[29]  \n",
      "9          June 19, 2011               3.04[30]  \n",
      "--------------------------------------------------\n",
      "   No.overall  No. inseason                         Title     Directed by  \\\n",
      "0          11             1         \"The North Remembers\"     Alan Taylor   \n",
      "1          12             2             \"The Night Lands\"     Alan Taylor   \n",
      "2          13             3  \"What Is Dead May Never Die\"   Alik Sakharov   \n",
      "3          14             4             \"Garden of Bones\"  David Petrarca   \n",
      "4          15             5      \"The Ghost of Harrenhal\"  David Petrarca   \n",
      "5          16             6    \"The Old Gods and the New\"    David Nutter   \n",
      "6          17             7         \"A Man Without Honor\"    David Nutter   \n",
      "7          18             8    \"The Prince of Winterfell\"     Alan Taylor   \n",
      "8          19             9                  \"Blackwater\"   Neil Marshall   \n",
      "9          20            10             \"Valar Morghulis\"     Alan Taylor   \n",
      "\n",
      "                    Written by Original air date [20] U.S. viewers(millions)  \n",
      "0  David Benioff & D. B. Weiss          April 1, 2012               3.86[31]  \n",
      "1  David Benioff & D. B. Weiss          April 8, 2012               3.76[32]  \n",
      "2                 Bryan Cogman         April 15, 2012               3.77[33]  \n",
      "3               Vanessa Taylor         April 22, 2012               3.65[34]  \n",
      "4  David Benioff & D. B. Weiss         April 29, 2012               3.90[35]  \n",
      "5               Vanessa Taylor            May 6, 2012               3.88[36]  \n",
      "6  David Benioff & D. B. Weiss           May 13, 2012               3.69[37]  \n",
      "7  David Benioff & D. B. Weiss           May 20, 2012               3.86[38]  \n",
      "8          George R. R. Martin           May 27, 2012               3.38[39]  \n",
      "9  David Benioff & D. B. Weiss           June 3, 2012               4.20[40]  \n",
      "--------------------------------------------------\n",
      "   No.overall  No. inseason                           Title  \\\n",
      "0          21             1                \"Valar Dohaeris\"   \n",
      "1          22             2        \"Dark Wings, Dark Words\"   \n",
      "2          23             3            \"Walk of Punishment\"   \n",
      "3          24             4    \"And Now His Watch Is Ended\"   \n",
      "4          25             5                \"Kissed by Fire\"   \n",
      "5          26             6                     \"The Climb\"   \n",
      "6          27             7  \"The Bear and the Maiden Fair\"   \n",
      "7          28             8                   \"Second Sons\"   \n",
      "8          29             9        \"The Rains of Castamere\"   \n",
      "9          30            10                         \"Mhysa\"   \n",
      "\n",
      "         Directed by                   Written by Original air date [20]  \\\n",
      "0     Daniel Minahan  David Benioff & D. B. Weiss         March 31, 2013   \n",
      "1     Daniel Minahan               Vanessa Taylor          April 7, 2013   \n",
      "2      David Benioff  David Benioff & D. B. Weiss         April 14, 2013   \n",
      "3        Alex Graves  David Benioff & D. B. Weiss         April 21, 2013   \n",
      "4        Alex Graves                 Bryan Cogman         April 28, 2013   \n",
      "5      Alik Sakharov  David Benioff & D. B. Weiss            May 5, 2013   \n",
      "6  Michelle MacLaren          George R. R. Martin           May 12, 2013   \n",
      "7  Michelle MacLaren  David Benioff & D. B. Weiss           May 19, 2013   \n",
      "8       David Nutter  David Benioff & D. B. Weiss           June 2, 2013   \n",
      "9       David Nutter  David Benioff & D. B. Weiss           June 9, 2013   \n",
      "\n",
      "  U.S. viewers(millions)  \n",
      "0               4.37[41]  \n",
      "1               4.27[42]  \n",
      "2               4.72[43]  \n",
      "3               4.87[44]  \n",
      "4               5.35[45]  \n",
      "5               5.50[46]  \n",
      "6               4.84[47]  \n",
      "7               5.13[48]  \n",
      "8               5.22[49]  \n",
      "9               5.39[50]  \n",
      "--------------------------------------------------\n",
      "   No.overall  No. inseason                         Title        Directed by  \\\n",
      "0          31             1                  \"Two Swords\"        D. B. Weiss   \n",
      "1          32             2       \"The Lion and the Rose\"        Alex Graves   \n",
      "2          33             3           \"Breaker of Chains\"        Alex Graves   \n",
      "3          34             4                  \"Oathkeeper\"  Michelle MacLaren   \n",
      "4          35             5           \"First of His Name\"  Michelle MacLaren   \n",
      "5          36             6    \"The Laws of Gods and Men\"      Alik Sakharov   \n",
      "6          37             7                 \"Mockingbird\"      Alik Sakharov   \n",
      "7          38             8  \"The Mountain and the Viper\"        Alex Graves   \n",
      "8          39             9    \"The Watchers on the Wall\"      Neil Marshall   \n",
      "9          40            10                \"The Children\"        Alex Graves   \n",
      "\n",
      "                    Written by Original air date [20] U.S. viewers(millions)  \n",
      "0  David Benioff & D. B. Weiss          April 6, 2014               6.64[51]  \n",
      "1          George R. R. Martin         April 13, 2014               6.31[52]  \n",
      "2  David Benioff & D. B. Weiss         April 20, 2014               6.59[53]  \n",
      "3                 Bryan Cogman         April 27, 2014               6.95[54]  \n",
      "4  David Benioff & D. B. Weiss            May 4, 2014               7.16[55]  \n",
      "5                 Bryan Cogman           May 11, 2014               6.40[56]  \n",
      "6  David Benioff & D. B. Weiss           May 18, 2014               7.20[57]  \n",
      "7  David Benioff & D. B. Weiss           June 1, 2014               7.17[58]  \n",
      "8  David Benioff & D. B. Weiss           June 8, 2014               6.95[59]  \n",
      "9  David Benioff & D. B. Weiss          June 15, 2014               7.09[60]  \n",
      "--------------------------------------------------\n",
      "   No.overall  No. inseason                           Title       Directed by  \\\n",
      "0          41             1              \"The Wars to Come\"    Michael Slovis   \n",
      "1          42             2  \"The House of Black and White\"    Michael Slovis   \n",
      "2          43             3                  \"High Sparrow\"        Mark Mylod   \n",
      "3          44             4             \"Sons of the Harpy\"        Mark Mylod   \n",
      "4          45             5                  \"Kill the Boy\"    Jeremy Podeswa   \n",
      "5          46             6     \"Unbowed, Unbent, Unbroken\"    Jeremy Podeswa   \n",
      "6          47             7                      \"The Gift\"  Miguel Sapochnik   \n",
      "7          48             8                      \"Hardhome\"  Miguel Sapochnik   \n",
      "8          49             9          \"The Dance of Dragons\"      David Nutter   \n",
      "9          50            10                \"Mother's Mercy\"      David Nutter   \n",
      "\n",
      "                    Written by Original air date [20] U.S. viewers(millions)  \n",
      "0  David Benioff & D. B. Weiss         April 12, 2015               8.00[61]  \n",
      "1  David Benioff & D. B. Weiss         April 19, 2015               6.81[62]  \n",
      "2  David Benioff & D. B. Weiss         April 26, 2015               6.71[63]  \n",
      "3                    Dave Hill            May 3, 2015               6.82[64]  \n",
      "4                 Bryan Cogman           May 10, 2015               6.56[65]  \n",
      "5                 Bryan Cogman           May 17, 2015               6.24[66]  \n",
      "6  David Benioff & D. B. Weiss           May 24, 2015               5.40[67]  \n",
      "7  David Benioff & D. B. Weiss           May 31, 2015               7.01[68]  \n",
      "8  David Benioff & D. B. Weiss           June 7, 2015               7.14[69]  \n",
      "9  David Benioff & D. B. Weiss          June 14, 2015               8.11[70]  \n",
      "--------------------------------------------------\n",
      "   No.overall  No. inseason                     Title       Directed by  \\\n",
      "0          51             1           \"The Red Woman\"    Jeremy Podeswa   \n",
      "1          52             2                    \"Home\"    Jeremy Podeswa   \n",
      "2          53             3             \"Oathbreaker\"   Daniel Sackheim   \n",
      "3          54             4    \"Book of the Stranger\"   Daniel Sackheim   \n",
      "4          55             5                \"The Door\"       Jack Bender   \n",
      "5          56             6       \"Blood of My Blood\"       Jack Bender   \n",
      "6          57             7          \"The Broken Man\"        Mark Mylod   \n",
      "7          58             8                  \"No One\"        Mark Mylod   \n",
      "8          59             9  \"Battle of the Bastards\"  Miguel Sapochnik   \n",
      "9          60            10     \"The Winds of Winter\"  Miguel Sapochnik   \n",
      "\n",
      "                    Written by Original air date [20] U.S. viewers(millions)  \n",
      "0  David Benioff & D. B. Weiss         April 24, 2016               7.94[71]  \n",
      "1                    Dave Hill            May 1, 2016               7.29[72]  \n",
      "2  David Benioff & D. B. Weiss            May 8, 2016               7.28[73]  \n",
      "3  David Benioff & D. B. Weiss           May 15, 2016               7.82[74]  \n",
      "4  David Benioff & D. B. Weiss           May 22, 2016               7.89[75]  \n",
      "5                 Bryan Cogman           May 29, 2016               6.71[76]  \n",
      "6                 Bryan Cogman           June 5, 2016               7.80[77]  \n",
      "7  David Benioff & D. B. Weiss          June 12, 2016               7.60[78]  \n",
      "8  David Benioff & D. B. Weiss          June 19, 2016               7.66[79]  \n",
      "9  David Benioff & D. B. Weiss          June 26, 2016               8.89[80]  \n",
      "--------------------------------------------------\n",
      "   No.overall  No. inseason                      Title     Directed by  \\\n",
      "0          61             1              \"Dragonstone\"  Jeremy Podeswa   \n",
      "1          62             2                \"Stormborn\"      Mark Mylod   \n",
      "2          63             3      \"The Queen's Justice\"      Mark Mylod   \n",
      "3          64             4        \"The Spoils of War\"    Matt Shakman   \n",
      "4          65             5                \"Eastwatch\"    Matt Shakman   \n",
      "5          66             6          \"Beyond the Wall\"     Alan Taylor   \n",
      "6          67             7  \"The Dragon and the Wolf\"  Jeremy Podeswa   \n",
      "\n",
      "                    Written by Original air date [20] U.S. viewers(millions)  \n",
      "0  David Benioff & D. B. Weiss          July 16, 2017              10.11[81]  \n",
      "1                 Bryan Cogman          July 23, 2017               9.27[82]  \n",
      "2  David Benioff & D. B. Weiss          July 30, 2017               9.25[83]  \n",
      "3  David Benioff & D. B. Weiss         August 6, 2017              10.17[84]  \n",
      "4                    Dave Hill        August 13, 2017              10.72[85]  \n",
      "5  David Benioff & D. B. Weiss        August 20, 2017              10.24[86]  \n",
      "6  David Benioff & D. B. Weiss        August 27, 2017              12.07[87]  \n",
      "--------------------------------------------------\n",
      "   No.overall  No. inseason                             Title  \\\n",
      "0          68             1                      \"Winterfell\"   \n",
      "1          69             2  \"A Knight of the Seven Kingdoms\"   \n",
      "2          70             3                  \"The Long Night\"   \n",
      "3          71             4          \"The Last of the Starks\"   \n",
      "4          72             5                       \"The Bells\"   \n",
      "5          73             6                 \"The Iron Throne\"   \n",
      "\n",
      "                   Directed by                   Written by  \\\n",
      "0                 David Nutter                    Dave Hill   \n",
      "1                 David Nutter                 Bryan Cogman   \n",
      "2             Miguel Sapochnik  David Benioff & D. B. Weiss   \n",
      "3                 David Nutter  David Benioff & D. B. Weiss   \n",
      "4             Miguel Sapochnik  David Benioff & D. B. Weiss   \n",
      "5  David Benioff & D. B. Weiss  David Benioff & D. B. Weiss   \n",
      "\n",
      "  Original air date [20] U.S. viewers(millions)  \n",
      "0         April 14, 2019              11.76[88]  \n",
      "1         April 21, 2019              10.29[89]  \n",
      "2         April 28, 2019              12.02[90]  \n",
      "3            May 5, 2019              11.80[91]  \n",
      "4           May 12, 2019              12.48[92]  \n",
      "5           May 19, 2019              13.61[93]  \n",
      "--------------------------------------------------\n",
      "                                                 No.  \\\n",
      "0                                                  1   \n",
      "1  A half-hour documentary that covered one day o...   \n",
      "2                                                  2   \n",
      "3  A two-hour documentary which documents the mak...   \n",
      "\n",
      "                                               Title  \\\n",
      "0                 Game of Thrones: A Day in the Life   \n",
      "1  A half-hour documentary that covered one day o...   \n",
      "2                    Game of Thrones: The Last Watch   \n",
      "3  A two-hour documentary which documents the mak...   \n",
      "\n",
      "                                   Original air date  \\\n",
      "0                                   February 8, 2015   \n",
      "1  A half-hour documentary that covered one day o...   \n",
      "2                                       May 26, 2019   \n",
      "3  A two-hour documentary which documents the mak...   \n",
      "\n",
      "                              U.S. viewers(millions)  \\\n",
      "0                                                NaN   \n",
      "1  A half-hour documentary that covered one day o...   \n",
      "2                                           1.63[96]   \n",
      "3  A two-hour documentary which documents the mak...   \n",
      "\n",
      "                                          Unnamed: 4  \n",
      "0                                                NaN  \n",
      "1  A half-hour documentary that covered one day o...  \n",
      "2                                                NaN  \n",
      "3  A two-hour documentary which documents the mak...  \n",
      "--------------------------------------------------\n",
      "  Season          Episodes DVD and Blu-ray release date  \\\n",
      "  Season Season.1 Episodes                     Region 1   \n",
      "0    NaN        1       10            March 6, 2012[97]   \n",
      "1    NaN        2       10       February 19, 2013[100]   \n",
      "2    NaN        3       10       February 18, 2014[103]   \n",
      "3    NaN        4       10       February 17, 2015[106]   \n",
      "4    NaN        5       10          March 15, 2016[109]   \n",
      "5    NaN        6       10       November 15, 2016[112]   \n",
      "6    NaN        7        7       December 12, 2017[115]   \n",
      "7    NaN        8        6        December 3, 2019[118]   \n",
      "\n",
      "                                                   \n",
      "                 Region 2                Region 4  \n",
      "0       March 5, 2012[98]     August 10, 2012[99]  \n",
      "1      March 4, 2013[101]      March 6, 2013[102]  \n",
      "2  February 17, 2014[104]  February 19, 2014[105]  \n",
      "3  February 16, 2015[107]  February 18, 2015[108]  \n",
      "4     March 14, 2016[110]     March 16, 2016[111]  \n",
      "5  November 14, 2016[113]  November 16, 2016[114]  \n",
      "6  December 11, 2017[116]  December 11, 2017[117]  \n",
      "7   December 2, 2019[119]   December 4, 2019[120]  \n",
      "--------------------------------------------------\n",
      "  Season          Episode number                                            \\\n",
      "  Season Season.1              1      2      3      4      5      6      7   \n",
      "0    NaN        1           2.22   2.20   2.44   2.45   2.58   2.44   2.40   \n",
      "1    NaN        2           3.86   3.76   3.77   3.65   3.90   3.88   3.69   \n",
      "2    NaN        3           4.37   4.27   4.72   4.87   5.35   5.50   4.84   \n",
      "3    NaN        4           6.64   6.31   6.59   6.95   7.16   6.40   7.20   \n",
      "4    NaN        5           8.00   6.81   6.71   6.82   6.56   6.24   5.40   \n",
      "5    NaN        6           7.94   7.29   7.28   7.82   7.89   6.71   7.80   \n",
      "6    NaN        7          10.11   9.27   9.25  10.17  10.72  10.24  12.07   \n",
      "7    NaN        8          11.76  10.29  12.02  11.80  12.48  13.61    NaN   \n",
      "\n",
      "                    Average  \n",
      "      8     9    10 Average  \n",
      "0  2.72  2.66  3.04    2.52  \n",
      "1  3.86  3.38  4.20    3.80  \n",
      "2  5.13  5.22  5.39    4.97  \n",
      "3  7.17  6.95  7.09    6.84  \n",
      "4  7.01  7.14  8.11    6.88  \n",
      "5  7.60  7.66  8.89    7.69  \n",
      "6   NaN   NaN   NaN   10.26  \n",
      "7   NaN   NaN   NaN   11.99  \n",
      "--------------------------------------------------\n"
     ]
    }
   ],
   "source": [
    "fruits = [\"apple\", \"banana\", \"cherry\"]\n",
    "for x in list_df:\n",
    "  print(x)\n",
    "  print('-' * 50)  \n",
    "\n"
   ]
  },
  {
   "cell_type": "code",
   "execution_count": null,
   "id": "8d0f39bf-3c24-43cd-a34a-bd0347a5c9b8",
   "metadata": {},
   "outputs": [],
   "source": [
    "\n",
    "\n",
    "\n",
    "df=pd.DataFrame(df[0])"
   ]
  },
  {
   "cell_type": "code",
   "execution_count": null,
   "id": "3843e18f-e7d4-4c03-b9c5-e84c87843c4d",
   "metadata": {},
   "outputs": [],
   "source": [
    "for t in "
   ]
  },
  {
   "cell_type": "code",
   "execution_count": null,
   "id": "66bde5c0-615c-4f38-98e3-7246dbd3f228",
   "metadata": {},
   "outputs": [],
   "source": [
    "# convert list to dataframe\n",
    "df=pd.DataFrame(df[0])\n",
    "print(df.head())"
   ]
  },
  {
   "cell_type": "code",
   "execution_count": 38,
   "id": "590da3d6-02b8-4e1c-9ac5-7f923083225f",
   "metadata": {},
   "outputs": [
    {
     "name": "stdout",
     "output_type": "stream",
     "text": [
      "zsh:1: command not found: explorer\n"
     ]
    }
   ],
   "source": [
    "!explorer .\n"
   ]
  },
  {
   "cell_type": "code",
   "execution_count": 39,
   "id": "9363903e-b1b4-4d67-9efd-b4dc94833704",
   "metadata": {},
   "outputs": [
    {
     "data": {
      "text/plain": [
       "'/mnt/c/Users/hnhtd/Desktop/Daily/2022/git/datawebscraper/datawebscraper'"
      ]
     },
     "execution_count": 39,
     "metadata": {},
     "output_type": "execute_result"
    }
   ],
   "source": [
    "pwd\n"
   ]
  },
  {
   "cell_type": "code",
   "execution_count": 41,
   "id": "6b09fcd2-606b-4baa-991a-e0d89a722128",
   "metadata": {},
   "outputs": [],
   "source": [
    "!explorer.exe .\n"
   ]
  },
  {
   "cell_type": "code",
   "execution_count": null,
   "id": "60964826-1e70-4b98-b075-88315faf4021",
   "metadata": {},
   "outputs": [],
   "source": []
  }
 ],
 "metadata": {
  "kernelspec": {
   "display_name": "Python 3 (ipykernel)",
   "language": "python",
   "name": "python3"
  },
  "language_info": {
   "codemirror_mode": {
    "name": "ipython",
    "version": 3
   },
   "file_extension": ".py",
   "mimetype": "text/x-python",
   "name": "python",
   "nbconvert_exporter": "python",
   "pygments_lexer": "ipython3",
   "version": "3.9.13"
  }
 },
 "nbformat": 4,
 "nbformat_minor": 5
}
